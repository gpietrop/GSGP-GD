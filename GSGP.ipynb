{
 "cells": [
  {
   "cell_type": "code",
   "execution_count": 1,
   "metadata": {},
   "outputs": [
    {
     "name": "stderr",
     "output_type": "stream",
     "text": [
      "\u001b[32m\u001b[1m Activating\u001b[22m\u001b[39m new environment at `~/Desktop/GSGP/Project.toml`\n"
     ]
    }
   ],
   "source": [
    "using Pkg\n",
    "Pkg.activate(\".\")"
   ]
  },
  {
   "cell_type": "code",
   "execution_count": 5,
   "metadata": {},
   "outputs": [],
   "source": [
    "# import Pkg"
   ]
  },
  {
   "cell_type": "code",
   "execution_count": 6,
   "metadata": {},
   "outputs": [],
   "source": [
    "# Pkg.add(\"Flux\")"
   ]
  },
  {
   "cell_type": "code",
   "execution_count": 7,
   "metadata": {},
   "outputs": [
    {
     "name": "stderr",
     "output_type": "stream",
     "text": [
      "┌ Info: Precompiling Flux [587475ba-b771-5e3f-ad9e-33799f191a9c]\n",
      "└ @ Base loading.jl:1260\n",
      "WARNING: importing deprecated binding ChainRulesCore.Composite into ChainRules.\n",
      "WARNING: ChainRulesCore.Composite is deprecated, use Tangent instead.\n",
      "  likely near /home/gpietropolli/.julia/packages/Zygote/ggM8Z/src/compiler/chainrules.jl:46\n",
      "WARNING: ChainRulesCore.Composite is deprecated, use Tangent instead.\n",
      "  likely near /home/gpietropolli/.julia/packages/Zygote/ggM8Z/src/compiler/chainrules.jl:46\n",
      "WARNING: importing deprecated binding ChainRulesCore.AbstractDifferential into ChainRules.\n",
      "WARNING: importing deprecated binding ChainRulesCore.DoesNotExist into ChainRules.\n",
      "WARNING: importing deprecated binding ChainRulesCore.Zero into ChainRules.\n"
     ]
    }
   ],
   "source": [
    "using DelimitedFiles\n",
    "using Flux"
   ]
  },
  {
   "cell_type": "code",
   "execution_count": 8,
   "metadata": {},
   "outputs": [],
   "source": [
    "struct Config\n",
    "    population_size\n",
    "    tournament_size\n",
    "    crossover_prob\n",
    "    mutation_prob\n",
    "    mutation_step\n",
    "    tree_function\n",
    "end"
   ]
  },
  {
   "cell_type": "code",
   "execution_count": 9,
   "metadata": {},
   "outputs": [],
   "source": [
    "struct Tree\n",
    "    op\n",
    "    left\n",
    "    right\n",
    "end"
   ]
  },
  {
   "cell_type": "code",
   "execution_count": 10,
   "metadata": {},
   "outputs": [],
   "source": [
    "struct Variable\n",
    "    idx\n",
    "end"
   ]
  },
  {
   "cell_type": "code",
   "execution_count": 11,
   "metadata": {},
   "outputs": [],
   "source": [
    "struct Constant\n",
    "    value\n",
    "end"
   ]
  },
  {
   "cell_type": "code",
   "execution_count": 12,
   "metadata": {},
   "outputs": [
    {
     "data": {
      "text/plain": [
       "random_tree (generic function with 1 method)"
      ]
     },
     "execution_count": 12,
     "metadata": {},
     "output_type": "execute_result"
    }
   ],
   "source": [
    "function random_tree(n_vars, max_depth, ops, consts, end_prob)\n",
    "    if max_depth == 0 || rand() < end_prob\n",
    "        if rand() > 0.5\n",
    "            Variable(rand(1:n_vars))\n",
    "        else\n",
    "            Constant(rand(consts))\n",
    "        end\n",
    "    else\n",
    "        left = random_tree(n_vars, max_depth - 1, ops, consts, end_prob)\n",
    "        right = random_tree(n_vars, max_depth - 1, ops, consts, end_prob)\n",
    "        Tree(rand(ops), left, right)\n",
    "    end\n",
    "end"
   ]
  },
  {
   "cell_type": "code",
   "execution_count": 13,
   "metadata": {},
   "outputs": [
    {
     "data": {
      "text/plain": [
       "ramped_half_half (generic function with 1 method)"
      ]
     },
     "execution_count": 13,
     "metadata": {},
     "output_type": "execute_result"
    }
   ],
   "source": [
    "function ramped_half_half(n_vars, max_depth, ops, consts, population_size)\n",
    "    pop = Array{Any}(nothing, population_size)\n",
    "    d = 1\n",
    "    full = false\n",
    "    for i=1:population_size\n",
    "        if full\n",
    "            pop[i] = random_tree(n_vars, d, ops, consts, 0)\n",
    "            full = false\n",
    "            d = 1 + (d + 1) % max_depth\n",
    "        else\n",
    "            pop[i] = random_tree(n_vars, d, ops, consts, 0.5)\n",
    "            full = true\n",
    "        end            \n",
    "    end\n",
    "    pop\n",
    "end"
   ]
  },
  {
   "cell_type": "code",
   "execution_count": 14,
   "metadata": {},
   "outputs": [
    {
     "data": {
      "text/plain": [
       "eval_individual (generic function with 1 method)"
      ]
     },
     "execution_count": 14,
     "metadata": {},
     "output_type": "execute_result"
    }
   ],
   "source": [
    "function eval_individual(v::Variable, in)\n",
    "    in[v.idx]\n",
    "end"
   ]
  },
  {
   "cell_type": "code",
   "execution_count": 15,
   "metadata": {},
   "outputs": [
    {
     "data": {
      "text/plain": [
       "eval_individual (generic function with 2 methods)"
      ]
     },
     "execution_count": 15,
     "metadata": {},
     "output_type": "execute_result"
    }
   ],
   "source": [
    "function eval_individual(c::Constant, in)\n",
    "    c.value\n",
    "end"
   ]
  },
  {
   "cell_type": "code",
   "execution_count": 16,
   "metadata": {},
   "outputs": [
    {
     "data": {
      "text/plain": [
       "eval_individual (generic function with 3 methods)"
      ]
     },
     "execution_count": 16,
     "metadata": {},
     "output_type": "execute_result"
    }
   ],
   "source": [
    "function eval_individual(t::Tree, in)\n",
    "    t.op(eval_individual(t.left, in), eval_individual(t.right, in)) \n",
    "end"
   ]
  },
  {
   "cell_type": "code",
   "execution_count": 17,
   "metadata": {},
   "outputs": [],
   "source": [
    "struct Generation\n",
    "    parent_population\n",
    "    parents_idx\n",
    "    random_steps\n",
    "    random_trees\n",
    "    params\n",
    "end\n"
   ]
  },
  {
   "cell_type": "code",
   "execution_count": 18,
   "metadata": {},
   "outputs": [
    {
     "data": {
      "text/plain": [
       "rmse (generic function with 1 method)"
      ]
     },
     "execution_count": 18,
     "metadata": {},
     "output_type": "execute_result"
    }
   ],
   "source": [
    "function rmse(y, ŷ)\n",
    "    (y .- ŷ).^2 |> sum |> x -> x / length(y) |> sqrt\n",
    "end"
   ]
  },
  {
   "cell_type": "code",
   "execution_count": 19,
   "metadata": {},
   "outputs": [
    {
     "data": {
      "text/plain": [
       "tournament (generic function with 1 method)"
      ]
     },
     "execution_count": 19,
     "metadata": {},
     "output_type": "execute_result"
    }
   ],
   "source": [
    "function tournament(fit, t_size)\n",
    "    idx = rand(1:length(fit), t_size)\n",
    "    t_fit = map(i -> fit[i], idx)\n",
    "    idx[argmin(t_fit)]\n",
    "end"
   ]
  },
  {
   "cell_type": "code",
   "execution_count": 20,
   "metadata": {},
   "outputs": [
    {
     "data": {
      "text/plain": [
       "next_generation (generic function with 1 method)"
      ]
     },
     "execution_count": 20,
     "metadata": {},
     "output_type": "execute_result"
    }
   ],
   "source": [
    "function next_generation(gen, conf::Config, in, out)\n",
    "    fit = map(t -> rmse(t, out), eval_population(gen, in))\n",
    "    best_idx = argmin(fit)\n",
    "    parents = map(x -> tournament(fit, conf.tournament_size), zeros(2, conf.population_size))\n",
    "    a = rand(conf.population_size)\n",
    "    cross = rand(conf.population_size) .< conf.crossover_prob\n",
    "    a = a .* cross + (1 .- cross)\n",
    "    b = 1 .- a\n",
    "    params = [a, b]\n",
    "    random_steps = repeat([conf.mutation_step], conf.population_size)\n",
    "    mut = rand(conf.population_size) .< conf.mutation_prob\n",
    "    random_steps = random_steps .* mut\n",
    "    random_trees = map(x -> conf.tree_function(), 1:conf.population_size)\n",
    "    # Elitism\n",
    "    params[1][1] = 1.0\n",
    "    parents[1,1] = best_idx\n",
    "    random_steps[1] = 0.0\n",
    "    Generation(gen, parents, random_steps, random_trees, params)\n",
    "end"
   ]
  },
  {
   "cell_type": "code",
   "execution_count": 21,
   "metadata": {},
   "outputs": [
    {
     "data": {
      "text/plain": [
       "eval_population (generic function with 1 method)"
      ]
     },
     "execution_count": 21,
     "metadata": {},
     "output_type": "execute_result"
    }
   ],
   "source": [
    "function eval_population(gen, in)\n",
    "    map(t -> map(x -> eval_individual(t, x), in), gen)\n",
    "end"
   ]
  },
  {
   "cell_type": "code",
   "execution_count": 22,
   "metadata": {},
   "outputs": [
    {
     "data": {
      "text/plain": [
       "eval_population (generic function with 2 methods)"
      ]
     },
     "execution_count": 22,
     "metadata": {},
     "output_type": "execute_result"
    }
   ],
   "source": [
    "function eval_population(gen::Generation, in)\n",
    "    p = eval_population(gen.parent_population, in) # (pop_size, num_inputs)\n",
    "    rnd = eval_population(gen.random_trees, in) # (pop_size, num_inputs)\n",
    "    f = function (i)\n",
    "        p1 = p[gen.parents_idx[1,:][i]] .* gen.params[1][i] # (num_inputs)\n",
    "        p2 = p[gen.parents_idx[2,:][i]] .* gen.params[2][i] # (num_inputs)\n",
    "        r = gen.random_steps[i] .* rnd[i] # (num_inputs)\n",
    "        p1 + p2 + r\n",
    "    end\n",
    "    map(f, 1:length(p))\n",
    "end"
   ]
  },
  {
   "cell_type": "code",
   "execution_count": 23,
   "metadata": {},
   "outputs": [
    {
     "data": {
      "text/plain": [
       "best_fitness (generic function with 1 method)"
      ]
     },
     "execution_count": 23,
     "metadata": {},
     "output_type": "execute_result"
    }
   ],
   "source": [
    "function best_fitness(gen, in, out)\n",
    "    fit = map(t -> rmse(t, out), eval_population(gen, in))\n",
    "    minimum(fit), argmin(fit)\n",
    "end"
   ]
  },
  {
   "cell_type": "code",
   "execution_count": 24,
   "metadata": {},
   "outputs": [
    {
     "data": {
      "text/plain": [
       "individual_fitness (generic function with 1 method)"
      ]
     },
     "execution_count": 24,
     "metadata": {},
     "output_type": "execute_result"
    }
   ],
   "source": [
    "function individual_fitness(gen, in, out, pos)\n",
    "    fit = map(t -> rmse(t, out), eval_population(gen, in))\n",
    "    fit[pos]\n",
    "end"
   ]
  },
  {
   "cell_type": "code",
   "execution_count": 25,
   "metadata": {},
   "outputs": [
    {
     "data": {
      "text/plain": [
       "extract_params (generic function with 1 method)"
      ]
     },
     "execution_count": 25,
     "metadata": {},
     "output_type": "execute_result"
    }
   ],
   "source": [
    "function extract_params(gen::Generation)\n",
    "    append!([gen.params, gen.random_steps], extract_params(gen.parent_population))\n",
    "end"
   ]
  },
  {
   "cell_type": "code",
   "execution_count": 26,
   "metadata": {},
   "outputs": [
    {
     "data": {
      "text/plain": [
       "extract_params (generic function with 2 methods)"
      ]
     },
     "execution_count": 26,
     "metadata": {},
     "output_type": "execute_result"
    }
   ],
   "source": [
    "function extract_params(gen)\n",
    "    []\n",
    "end"
   ]
  },
  {
   "cell_type": "code",
   "execution_count": 27,
   "metadata": {},
   "outputs": [
    {
     "data": {
      "text/plain": [
       "eval_population_with_params (generic function with 1 method)"
      ]
     },
     "execution_count": 27,
     "metadata": {},
     "output_type": "execute_result"
    }
   ],
   "source": [
    "function eval_population_with_params(gen, in, params)\n",
    "    eval_population(gen, in)\n",
    "end"
   ]
  },
  {
   "cell_type": "code",
   "execution_count": 28,
   "metadata": {},
   "outputs": [
    {
     "data": {
      "text/plain": [
       "eval_population_with_params (generic function with 2 methods)"
      ]
     },
     "execution_count": 28,
     "metadata": {},
     "output_type": "execute_result"
    }
   ],
   "source": [
    "function eval_population_with_params(gen::Generation, in, params)\n",
    "    p = eval_population_with_params(gen.parent_population, in, params[3:end])\n",
    "    curr_params = params[1]\n",
    "    rand_params = params[2]\n",
    "    rnd = eval_population(gen.random_trees, in) # (pop_size, num_inputs)\n",
    "    f = function (i)\n",
    "        p1 = p[gen.parents_idx[1,:][i]] .* curr_params[1][i] # (num_inputs)\n",
    "        p2 = p[gen.parents_idx[2,:][i]] .* curr_params[2][i] # (num_inputs)\n",
    "        r = rand_params[i] .* rnd[i] # (num_inputs)\n",
    "        p1 + p2 + r\n",
    "    end\n",
    "    map(f, 1:length(p))\n",
    "end"
   ]
  },
  {
   "cell_type": "code",
   "execution_count": 29,
   "metadata": {},
   "outputs": [
    {
     "data": {
      "text/plain": [
       "update_params (generic function with 1 method)"
      ]
     },
     "execution_count": 29,
     "metadata": {},
     "output_type": "execute_result"
    }
   ],
   "source": [
    "function update_params(gen, gradient, learning_rate)\n",
    "    gen\n",
    "end"
   ]
  },
  {
   "cell_type": "code",
   "execution_count": 30,
   "metadata": {},
   "outputs": [
    {
     "data": {
      "text/plain": [
       "update_params (generic function with 2 methods)"
      ]
     },
     "execution_count": 30,
     "metadata": {},
     "output_type": "execute_result"
    }
   ],
   "source": [
    "function update_params(gen::Generation, gradient, learning_rate)\n",
    "    g1 = map(x -> clamp.(x, -0.5, 0.5), gradient[1])\n",
    "    g2 = map(x -> clamp.(x, -0.5, 0.5), gradient[2])\n",
    "    new_params = gen.params - learning_rate .* g1\n",
    "    new_rnd = gen.random_steps - learning_rate .* g2\n",
    "    new_parents = update_params(gen.parent_population, gradient[3:end], learning_rate)\n",
    "    Generation(new_parents, gen.parents_idx, new_rnd, gen.random_trees, new_params)\n",
    "end"
   ]
  },
  {
   "cell_type": "code",
   "execution_count": 31,
   "metadata": {},
   "outputs": [
    {
     "data": {
      "text/plain": [
       "make_loss (generic function with 1 method)"
      ]
     },
     "execution_count": 31,
     "metadata": {},
     "output_type": "execute_result"
    }
   ],
   "source": [
    "function make_loss(gen, in, out)\n",
    "    function (params)\n",
    "        y = eval_population_with_params(gen, in, params)\n",
    "        fit = map(t -> rmse(t, out), y) |> sum\n",
    "    end\n",
    "end"
   ]
  },
  {
   "cell_type": "code",
   "execution_count": 32,
   "metadata": {},
   "outputs": [
    {
     "data": {
      "text/plain": [
       "pdiv (generic function with 1 method)"
      ]
     },
     "execution_count": 32,
     "metadata": {},
     "output_type": "execute_result"
    }
   ],
   "source": [
    "function pdiv(a, b)\n",
    "    if b == 0\n",
    "        1\n",
    "    else\n",
    "        a/b\n",
    "    end\n",
    "end"
   ]
  },
  {
   "cell_type": "code",
   "execution_count": 33,
   "metadata": {},
   "outputs": [],
   "source": [
    "struct Dataset\n",
    "    n_vars\n",
    "    train_x\n",
    "    train_y\n",
    "    test_x\n",
    "    test_y\n",
    "end"
   ]
  },
  {
   "cell_type": "code",
   "execution_count": 34,
   "metadata": {},
   "outputs": [
    {
     "data": {
      "text/plain": [
       "read_dataset (generic function with 1 method)"
      ]
     },
     "execution_count": 34,
     "metadata": {},
     "output_type": "execute_result"
    }
   ],
   "source": [
    "function read_dataset(basename, n)\n",
    "    train_name = \"datasets/$(basename)/train$(n)\"\n",
    "    test_name = \"datasets/$(basename)/test$(n)\"\n",
    "    train = DelimitedFiles.readdlm(open(train_name, \"r\"), '\\t', skipstart=2)\n",
    "    test = DelimitedFiles.readdlm(open(test_name, \"r\"), '\\t', skipstart=2)\n",
    "    train_x = [train[i, 1:end-1] for i in 1:size(train, 1)]\n",
    "    test_x = [test[i, 1:end-1] for i in 1:size(test, 1)]\n",
    "    n_vars = size(train, 2) - 1\n",
    "    Dataset(n_vars, train_x, train[:,end], test_x, test[:,end])\n",
    "end"
   ]
  },
  {
   "cell_type": "code",
   "execution_count": 35,
   "metadata": {},
   "outputs": [
    {
     "data": {
      "text/plain": [
       "experiment (generic function with 1 method)"
      ]
     },
     "execution_count": 35,
     "metadata": {},
     "output_type": "execute_result"
    }
   ],
   "source": [
    "function experiment(dname, n, outfile, k1, k2)\n",
    "    d = read_dataset(dname, n)\n",
    "    n_vars = d.n_vars\n",
    "    ops = [+, -, *, pdiv]\n",
    "    consts = [-1, 1]\n",
    "    population_size = 50\n",
    "    tournament_size = 4\n",
    "    crossover_prob = 0.9\n",
    "    mutation_prob = 0.3\n",
    "    mutation_step = 0.1\n",
    "    num_gen = div(50, k1 + k2)\n",
    "    learning_rate = 0.01\n",
    "    tree_function = function() random_tree(n_vars, 2, ops, consts, 0.5) end\n",
    "    conf = Config(population_size, tournament_size,\n",
    "                  crossover_prob, mutation_prob,\n",
    "                  mutation_step, tree_function)\n",
    "    P = ramped_half_half(n_vars, 4, ops, consts, population_size)\n",
    "    hist = Array{Any,1}(nothing, num_gen + 1)\n",
    "    hist[1] = P\n",
    "    out = open(outfile, \"w\")\n",
    "    for i=2:num_gen + 1\n",
    "        for j=1:k1\n",
    "            hist[i] = next_generation(hist[i-1], conf, d.train_x, d.train_y)\n",
    "            f_train, best_idx = best_fitness(hist[i], d.train_x, d.train_y)\n",
    "            f_test = individual_fitness(hist[i], d.test_x, d.test_y, best_idx)\n",
    "            print(out, \"$(i-1)\\t$(j)\\t$(f_train)\\t$(f_test)\\n\")\n",
    "            print(\"$(i-1)\\t$(j)\\t$(f_train)\\t$(f_test)\\n\")\n",
    "        end\n",
    "        for j=k1+1:k1+k2\n",
    "            par = extract_params(hist[i])\n",
    "            f = make_loss(hist[i], d.train_x, d.train_y)\n",
    "            g = gradient(f, par)[1]\n",
    "            hist[i] = update_params(hist[i], g, learning_rate)\n",
    "            f_train, best_idx = best_fitness(hist[i], d.train_x, d.train_y)\n",
    "            f_test = individual_fitness(hist[i], d.test_x, d.test_y, best_idx)\n",
    "            print(out, \"$(i-1)\\t$(j)\\t$(f_train)\\t$(f_test)\\n\")\n",
    "            print(\"$(i-1)\\t$(j)\\t$(f_train)\\t$(f_test)\\n\")\n",
    "        end\n",
    "    end\n",
    "    close(out)\n",
    "end"
   ]
  },
  {
   "cell_type": "code",
   "execution_count": 36,
   "metadata": {},
   "outputs": [
    {
     "data": {
      "text/plain": [
       "main (generic function with 1 method)"
      ]
     },
     "execution_count": 36,
     "metadata": {},
     "output_type": "execute_result"
    }
   ],
   "source": [
    "function main(args)\n",
    "    dname = args[1]\n",
    "    p = [(1,0), (1,1)]\n",
    "    for i=1:100\n",
    "        for (k1, k2) in p\n",
    "            print(\"Experiment $(i), k1=$(k1), k2=$(k2)\\n\")\n",
    "            experiment(dname, i, \"results/$(dname)/results-$(i)-k1=$(k1)-k2=$(k2)\", k1, k2)\n",
    "        end\n",
    "    end\n",
    "end"
   ]
  },
  {
   "cell_type": "code",
   "execution_count": 37,
   "metadata": {},
   "outputs": [
    {
     "name": "stdout",
     "output_type": "stream",
     "text": [
      "Experiment 1, k1=1, k2=0\n"
     ]
    },
    {
     "ename": "SystemError",
     "evalue": "\u001b[91mSystemError: opening file \"datasets//home/gpietropolli/.local/share/jupyter/runtime/kernel-79b68710-9e45-49ac-b748-4956d2ff9bfc.json/train1\": No such file or directory\u001b[39m",
     "output_type": "error",
     "traceback": [
      "\u001b[91mSystemError: opening file \"datasets//home/gpietropolli/.local/share/jupyter/runtime/kernel-79b68710-9e45-49ac-b748-4956d2ff9bfc.json/train1\": No such file or directory\u001b[39m",
      "",
      "Stacktrace:",
      " [1] systemerror(::String, ::Int32; extrainfo::Nothing) at ./error.jl:168",
      " [2] #systemerror#50 at ./error.jl:167 [inlined]",
      " [3] systemerror at ./error.jl:167 [inlined]",
      " [4] open(::String; read::Bool, write::Nothing, create::Nothing, truncate::Nothing, append::Nothing) at ./iostream.jl:254",
      " [5] open(::String, ::String) at ./iostream.jl:310",
      " [6] read_dataset(::String, ::Int64) at ./In[34]:4",
      " [7] experiment(::String, ::Int64, ::String, ::Int64, ::Int64) at ./In[35]:2",
      " [8] main(::Array{String,1}) at ./In[36]:7",
      " [9] top-level scope at In[37]:1"
     ]
    }
   ],
   "source": [
    "main(ARGS)"
   ]
  },
  {
   "cell_type": "code",
   "execution_count": null,
   "metadata": {},
   "outputs": [],
   "source": []
  }
 ],
 "metadata": {
  "kernelspec": {
   "display_name": "Julia 1.4.1",
   "language": "julia",
   "name": "julia-1.4"
  },
  "language_info": {
   "file_extension": ".jl",
   "mimetype": "application/julia",
   "name": "julia",
   "version": "1.4.1"
  }
 },
 "nbformat": 4,
 "nbformat_minor": 4
}
